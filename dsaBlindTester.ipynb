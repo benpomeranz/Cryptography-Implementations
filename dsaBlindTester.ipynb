{
    "cells": [
        {
            "cell_type": "markdown",
            "metadata": {},
            "source": [
                "Devise a method to create ``blind forgeries'' for a given DSA public key. That is, write a function $\\texttt{dsaBlind(p,q,g,A)}$ given $p,q,g$ and $A$ as in DSA, generate integers $(d,s_1,s_2)$ such that $(s_1,s_2)$ is a valid signature for $d$ for the verification key $A$. Your method should be non-deterministic; the grading script will give the same test case multiple times to check that the same answer is not returned each time.\n"
            ]
        },
        {
            "cell_type": "code",
            "execution_count": 50,
            "metadata": {
                "mainSource": true
            },
            "outputs": [],
            "source": [
                "# Run this cell every time you change your source code.\n",
                "import importlib, dsaBlindSoln\n",
                "importlib.reload(dsaBlindSoln)\n",
                "from dsaBlindSoln import dsaBlind"
            ]
        },
        {
            "cell_type": "code",
            "execution_count": 51,
            "metadata": {},
            "outputs": [
                {
                    "data": {
                        "text/plain": [
                            "(0, 0, 0)"
                        ]
                    },
                    "execution_count": 51,
                    "metadata": {},
                    "output_type": "execute_result"
                }
            ],
            "source": [
                "# Sample test case (6-bit p, 3-bit q)\n",
                "# Expected: (many answers possible; use your verifyDSA code to check if your signatures are valid)\n",
                "# Time limit: 1s (not enforced by this notebook)\n",
                "dsaBlind(61,5,9,58)"
            ]
        },
        {
            "cell_type": "code",
            "execution_count": 52,
            "metadata": {},
            "outputs": [
                {
                    "data": {
                        "text/plain": [
                            "(24, 12, 16)"
                        ]
                    },
                    "execution_count": 52,
                    "metadata": {},
                    "output_type": "execute_result"
                }
            ],
            "source": [
                "# Sample test case (10-bit p, 5-bit q)\n",
                "# Expected: (many answers possible; use your verifyDSA code to check if your signatures are valid)\n",
                "# Time limit: 1s (not enforced by this notebook)\n",
                "dsaBlind(523,29,490,121)"
            ]
        },
        {
            "cell_type": "code",
            "execution_count": 53,
            "metadata": {},
            "outputs": [
                {
                    "data": {
                        "text/plain": [
                            "(136, 85, 545)"
                        ]
                    },
                    "execution_count": 53,
                    "metadata": {},
                    "output_type": "execute_result"
                }
            ],
            "source": [
                "# Sample test case (20-bit p, 10-bit q)\n",
                "# Expected: (many answers possible; use your verifyDSA code to check if your signatures are valid)\n",
                "# Time limit: 1s (not enforced by this notebook)\n",
                "dsaBlind(848387,787,415396,405248)"
            ]
        },
        {
            "cell_type": "code",
            "execution_count": 54,
            "metadata": {},
            "outputs": [
                {
                    "data": {
                        "text/plain": [
                            "(3970457887, 1581754619, 1493047335)"
                        ]
                    },
                    "execution_count": 54,
                    "metadata": {},
                    "output_type": "execute_result"
                }
            ],
            "source": [
                "# Sample test case (48-bit p, 32-bit q)\n",
                "# Expected: (many answers possible; use your verifyDSA code to check if your signatures are valid)\n",
                "# Time limit: 1s (not enforced by this notebook)\n",
                "dsaBlind(155731423084339,4104892801,134393814117589,116516832208535)"
            ]
        },
        {
            "cell_type": "code",
            "execution_count": 55,
            "metadata": {},
            "outputs": [
                {
                    "data": {
                        "text/plain": [
                            "(4225359891333442695, 2552536167250926067, 11463616536302225703)"
                        ]
                    },
                    "execution_count": 55,
                    "metadata": {},
                    "output_type": "execute_result"
                }
            ],
            "source": [
                "# Sample test case (100-bit p, 64-bit q)\n",
                "# Expected: (many answers possible; use your verifyDSA code to check if your signatures are valid)\n",
                "# Time limit: 1s (not enforced by this notebook)\n",
                "dsaBlind(1008115003136807667804162757091,12622578750816745511,278238252339413851740821547801,871853940163364247259921911688)"
            ]
        },
        {
            "cell_type": "code",
            "execution_count": 56,
            "metadata": {},
            "outputs": [
                {
                    "data": {
                        "text/plain": [
                            "(74630946496495917256674912530222291302769069387658881119085324692871954292540,\n",
                            " 99825387455875266104822434241447144035419719576673553597027086177024755265083,\n",
                            " 82433652511188086015987530437103730762325549580897609009619107217911177075396)"
                        ]
                    },
                    "execution_count": 56,
                    "metadata": {},
                    "output_type": "execute_result"
                }
            ],
            "source": [
                "# Sample test case (512-bit p, 256-bit q)\n",
                "# Expected: (many answers possible; use your verifyDSA code to check if your signatures are valid)\n",
                "# Time limit: 1s (not enforced by this notebook)\n",
                "dsaBlind(7260083298352242757544744334700778053297275520714724887636920246980090192123108768942140532851371613441384963103537160090153530336022677393655327241999169,102315585079393005123095215398318839125907866224774501653885115147475372099961,6432532704228938321100314559140158506567161711787609775885045158412010240053091805305595543639135623928476783245919961826524630153021018836638607884316148,5325302203472671042236178397861996592677080268811521102331413874711989992801467071407858308968145643238544539243169124488712627127410319829387013439283349)"
            ]
        }
    ],
    "metadata": {
        "kernelspec": {
            "display_name": "base",
            "language": "python",
            "name": "python3"
        },
        "language_info": {
            "codemirror_mode": {
                "name": "ipython",
                "version": 3
            },
            "file_extension": ".py",
            "mimetype": "text/x-python",
            "name": "python",
            "nbconvert_exporter": "python",
            "pygments_lexer": "ipython3",
            "version": "3.11.5"
        }
    },
    "nbformat": 4,
    "nbformat_minor": 2
}
