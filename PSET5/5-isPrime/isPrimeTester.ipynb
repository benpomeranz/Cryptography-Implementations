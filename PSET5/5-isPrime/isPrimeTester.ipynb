{
    "cells": [
        {
            "cell_type": "markdown",
            "metadata": {},
            "source": [
                "Implement the Miller-Rabin primality test: write a function $\\texttt{isPrime(n)}$ that returns $\\texttt{True}$ or $\\texttt{False}$ according to whether or not $n$ is prime. The starter code will also define a function $\\texttt{checkList}$ that applies your function to a list of integers; you do not need to modify that part. Each test case will give your function ten integers of the same size; to pass the test case your function must give the correct answer for all ten.\n"
            ]
        },
        {
            "cell_type": "code",
            "execution_count": 11,
            "metadata": {
                "mainSource": true
            },
            "outputs": [],
            "source": [
                "# Run this cell every time you change your source code.\n",
                "import importlib, isPrimeSoln\n",
                "importlib.reload(isPrimeSoln)\n",
                "from isPrimeSoln import checkList, isPrime"
            ]
        },
        {
            "cell_type": "code",
            "execution_count": 12,
            "metadata": {},
            "outputs": [
                {
                    "data": {
                        "text/plain": [
                            "(False, False, True, True, False, True, False, False, True, True)"
                        ]
                    },
                    "execution_count": 12,
                    "metadata": {},
                    "output_type": "execute_result"
                }
            ],
            "source": [
                "# Sample test case (10 4-bit numbers)\n",
                "# Expected: [False, False, True, True, False, True, False, False, True, True]\n",
                "# Time limit: 1s (not enforced by this notebook)\n",
                "checkList([15, 15, 11, 11, 10, 11, 10, 14, 13, 13])"
            ]
        },
        {
            "cell_type": "code",
            "execution_count": 13,
            "metadata": {},
            "outputs": [
                {
                    "data": {
                        "text/plain": [
                            "(False, True, False, True, True, False, True, False, True, False)"
                        ]
                    },
                    "execution_count": 13,
                    "metadata": {},
                    "output_type": "execute_result"
                }
            ],
            "source": [
                "# Sample test case (10 13-bit numbers)\n",
                "# Expected: [False, True, False, True, True, False, True, False, True, False]\n",
                "# Time limit: 1s (not enforced by this notebook)\n",
                "checkList([7147, 5081, 5672, 4889, 4253, 6416, 7907, 4578, 7349, 4654])"
            ]
        },
        {
            "cell_type": "code",
            "execution_count": 14,
            "metadata": {},
            "outputs": [
                {
                    "data": {
                        "text/plain": [
                            "(True, False, True, False, False, False, True, False, True, True)"
                        ]
                    },
                    "execution_count": 14,
                    "metadata": {},
                    "output_type": "execute_result"
                }
            ],
            "source": [
                "# Sample test case (10 23-bit numbers)\n",
                "# Expected: [True, False, True, False, False, False, True, False, True, True]\n",
                "# Time limit: 1s (not enforced by this notebook)\n",
                "checkList([7106549, 6958097, 5739491, 6379796, 6202778, 7277670, 4241663, 4551900, 6402247, 5823239])"
            ]
        },
        {
            "cell_type": "code",
            "execution_count": 15,
            "metadata": {},
            "outputs": [
                {
                    "data": {
                        "text/plain": [
                            "(True, False, True, False, False, True, True, False, False, True)"
                        ]
                    },
                    "execution_count": 15,
                    "metadata": {},
                    "output_type": "execute_result"
                }
            ],
            "source": [
                "# Sample test case (10 32-bit numbers)\n",
                "# Expected: [True, False, True, False, False, True, True, False, False, True]\n",
                "# Time limit: 1s (not enforced by this notebook)\n",
                "checkList([2232575159, 3114883179, 2576595001, 3135402797, 3002145419, 2798048947, 2230763083, 3555465182, 3979103870, 3062788361])"
            ]
        },
        {
            "cell_type": "code",
            "execution_count": 16,
            "metadata": {},
            "outputs": [
                {
                    "data": {
                        "text/plain": [
                            "(True, False, True, False, False, True, True, True, False, False)"
                        ]
                    },
                    "execution_count": 16,
                    "metadata": {},
                    "output_type": "execute_result"
                }
            ],
            "source": [
                "# Sample test case (10 40-bit numbers)\n",
                "# Expected: [True, False, True, False, False, True, True, True, False, False]\n",
                "# Time limit: 1s (not enforced by this notebook)\n",
                "checkList([1061841683939, 715169130802, 862204576379, 568463387258, 715366694845, 961779687821, 864756746443, 1056059473121, 849336743412, 929313896515])"
            ]
        },
        {
            "cell_type": "code",
            "execution_count": 17,
            "metadata": {},
            "outputs": [
                {
                    "data": {
                        "text/plain": [
                            "(True, False, False, True, True, False, False, True, False, True)"
                        ]
                    },
                    "execution_count": 17,
                    "metadata": {},
                    "output_type": "execute_result"
                }
            ],
            "source": [
                "# Sample test case (10 197-bit numbers)\n",
                "# Expected: [True, False, False, True, True, False, False, True, False, True]\n",
                "# Time limit: 1s (not enforced by this notebook)\n",
                "checkList([152267171415156751414602835225149948803324907586450911760631, 110146951346865914791780143716465412646997154661962990001215, 109732484949662160158535201978651672738229784940936756606609, 190771513798851395777717438068046966733707896314863414217299, 150967354439616247021099960434369112534257411323636746957979, 130418233362281314567815016971363546373195461410279459018130, 148278320126450726285479137338585827481564033928176597004736, 193916585749073475890334385372707450510683156507244740562221, 164103234965783653635664745868358791880747559165871950604640, 130764732908215261500184063516368493951932876500048967936809])"
            ]
        },
        {
            "cell_type": "code",
            "execution_count": 18,
            "metadata": {},
            "outputs": [
                {
                    "data": {
                        "text/plain": [
                            "(True, True, False, True, False, False, False, False, True, True)"
                        ]
                    },
                    "execution_count": 18,
                    "metadata": {},
                    "output_type": "execute_result"
                }
            ],
            "source": [
                "# Sample test case (10 355-bit numbers)\n",
                "# Expected: [True, True, False, True, False, False, False, False, True, True]\n",
                "# Time limit: 1s (not enforced by this notebook)\n",
                "checkList([59012947025163110245344520720253623029410187088467157637577253520409728976859844031648225038749170401693443, 68681977377772938909908696938312379826097762104764707688690361833459720999513369562968458103024736912200537, 58262575679187229850136536490779299164742763174875723922122085609635139404343658297221210148751840007122870, 55817066498640997458830371384225249922996021387043765773751208707453430816349006944635988320642240889595389, 70834147867001777961470148337185869847237748259094113438569034830690351206532436082479830328999081629611998, 70955386535271042001751774958768172472472679105536420567723514153860865361421190850350970075683352514073654, 45703862786107747961558496367253275924509223321575259486803168336878840734875712338211382958160222839550295, 56519173070815162060255007816756653508681524379072670780198847577359955412077250274424002528186944971831063, 54549025362810640295904976610071459206479573985807902579762275602146497428679566747075545346958081711154227, 56965142913250952248173884179585910761539956340507799714975946568076172247900099411239176689238721054796173])"
            ]
        },
        {
            "cell_type": "code",
            "execution_count": 20,
            "metadata": {},
            "outputs": [
                {
                    "data": {
                        "text/plain": [
                            "(False, True, True, False, True, False, True, False, True, False)"
                        ]
                    },
                    "execution_count": 20,
                    "metadata": {},
                    "output_type": "execute_result"
                }
            ],
            "source": [
                "# Sample test case (10 512-bit numbers)\n",
                "# Expected: [False, True, True, False, True, False, True, False, True, False]\n",
                "# Time limit: 1s (not enforced by this notebook)\n",
                "checkList([9761405959560597382407927384791989954048465104192959659719371601992847220646142338545481748765262687678036444488696053784284243263029271744254975580576494, 13129691382536521813103157891655957556895017292851973214733925604801813009890076293422881426127582585432976854946134010223473861670774562263756621919250001, 11560417170493629061952748541069471537744273477595686419379840502618402093625606145505883105947822198987630960819041869953309994203099509512734688368970449, 12191621284100523161648031219134888392318671036478072756567939437369107000255628003703384258732816620226348846802583791526144961991132236280824643777939473, 12746376195414654932144380117246562984054201742289443580849314004883190110694321221111223329465253434696175414992411672101052448491628575047571705824206097, 10191299182860372244007369689311969286215116270173796277596226347499289118845052152194734819326105051893558716197754849879873902220372631601000978194606941, 12427785368217440633557648964119331982484356853553726695579561282595885801605600426518876317138291056801300744706212297531426717729280976934075326623339671, 6708943384522415040034788594719470379111364121762948350470759556984768617663592624543536650108543711377579097547262626888730091118787762441872065331288490, 9794060256768123639883429122729295416844666658730000393745504711949315232176031581914352430381997796938615521497579618377888025268983130614778012077205689, 10876868174839399713517491203705895138898809799531605412523374436283103291308401486894950364224258428715624652248826775718941429312468813313105218336815319])"
            ]
        },
        {
            "cell_type": "code",
            "execution_count": null,
            "metadata": {},
            "outputs": [],
            "source": [
                "\n"
            ]
        }
    ],
    "metadata": {
        "kernelspec": {
            "display_name": "base",
            "language": "python",
            "name": "python3"
        },
        "language_info": {
            "codemirror_mode": {
                "name": "ipython",
                "version": 3
            },
            "file_extension": ".py",
            "mimetype": "text/x-python",
            "name": "python",
            "nbconvert_exporter": "python",
            "pygments_lexer": "ipython3",
            "version": "3.11.5"
        }
    },
    "nbformat": 4,
    "nbformat_minor": 2
}
