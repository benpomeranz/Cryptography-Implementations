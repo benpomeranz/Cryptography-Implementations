{
    "cells": [
        {
            "cell_type": "markdown",
            "metadata": {},
            "source": [
                "Write a function $\\texttt{makeQP(qbits,pbits)}$ that generates two primes numbers $q$ and $p$ such that $q$ is exactly $\\texttt{qbits}$ bits long, $p$ is exactly $\\texttt{pbits}$ bits long, and $p \\equiv 1 \\pmod{q}$. Recall that $p$ is ``exactly $n$ bits long'' means that $2^{n-1} \\leq p < 2^n$.\n",
                "(For example, this function can be used to create a prime $p$ that has at least one factor $q$ that is big enough to be secure against a Pollard-factorization attack.)\n"
            ]
        },
        {
            "cell_type": "code",
            "execution_count": 1,
            "metadata": {
                "mainSource": true
            },
            "outputs": [],
            "source": [
                "# Run this cell every time you change your source code.\n",
                "import importlib, makeQPSoln\n",
                "importlib.reload(makeQPSoln)\n",
                "from makeQPSoln import makeQP,checkQP"
            ]
        },
        {
            "cell_type": "code",
            "execution_count": 2,
            "metadata": {},
            "outputs": [
                {
                    "name": "stdout",
                    "output_type": "stream",
                    "text": [
                        "Your code produced:\n",
                        "\tq=5\n",
                        "\tp=41\n",
                        "Checking the output...\n",
                        "q has the correct number of bits.\n",
                        "p has the correct number of bits.\n",
                        "p is 1 mod q, as desired.\n",
                        "q is prime.\n",
                        "p is prime.\n"
                    ]
                }
            ],
            "source": [
                "# Sample test case (3-bit q; 6-bit p)\n",
                "# Expected: Many possible answers. A few lines to check whether your answer works are provided in the testing notebook, but you'll need to provide your own prime-testing function.\n",
                "q,p = makeQP(3,6)\n",
                "print('Your code produced:\\n\\tq=%d\\n\\tp=%d'%(q,p))\n",
                "print('Checking the output...')\n",
                "checkQP(q,p,3,6)\n"
            ]
        },
        {
            "cell_type": "code",
            "execution_count": 3,
            "metadata": {},
            "outputs": [
                {
                    "name": "stdout",
                    "output_type": "stream",
                    "text": [
                        "Your code produced:\n",
                        "\tq=17\n",
                        "\tp=613\n",
                        "Checking the output...\n",
                        "q has the correct number of bits.\n",
                        "p has the correct number of bits.\n",
                        "p is 1 mod q, as desired.\n",
                        "q is prime.\n",
                        "p is prime.\n"
                    ]
                }
            ],
            "source": [
                "# Sample test case (5-bit q; 10-bit p)\n",
                "# Expected: Many possible answers. A few lines to check whether your answer works are provided in the testing notebook, but you'll need to provide your own prime-testing function.\n",
                "q,p = makeQP(5,10)\n",
                "print('Your code produced:\\n\\tq=%d\\n\\tp=%d'%(q,p))\n",
                "print('Checking the output...')\n",
                "checkQP(q,p,5,10)\n"
            ]
        },
        {
            "cell_type": "code",
            "execution_count": 4,
            "metadata": {},
            "outputs": [
                {
                    "name": "stdout",
                    "output_type": "stream",
                    "text": [
                        "Your code produced:\n",
                        "\tq=521\n",
                        "\tp=535589\n",
                        "Checking the output...\n",
                        "q has the correct number of bits.\n",
                        "p has the correct number of bits.\n",
                        "p is 1 mod q, as desired.\n",
                        "q is prime.\n",
                        "p is prime.\n"
                    ]
                }
            ],
            "source": [
                "# Sample test case (10-bit q; 20-bit p)\n",
                "# Expected: Many possible answers. A few lines to check whether your answer works are provided in the testing notebook, but you'll need to provide your own prime-testing function.\n",
                "q,p = makeQP(10,20)\n",
                "print('Your code produced:\\n\\tq=%d\\n\\tp=%d'%(q,p))\n",
                "print('Checking the output...')\n",
                "checkQP(q,p,10,20)\n"
            ]
        },
        {
            "cell_type": "code",
            "execution_count": 5,
            "metadata": {},
            "outputs": [
                {
                    "name": "stdout",
                    "output_type": "stream",
                    "text": [
                        "Your code produced:\n",
                        "\tq=2147483659\n",
                        "\tp=140754668945497\n",
                        "Checking the output...\n",
                        "q has the correct number of bits.\n",
                        "p has the correct number of bits.\n",
                        "p is 1 mod q, as desired.\n",
                        "q is prime.\n",
                        "p is prime.\n"
                    ]
                }
            ],
            "source": [
                "# Sample test case (32-bit q; 48-bit p)\n",
                "# Expected: Many possible answers. A few lines to check whether your answer works are provided in the testing notebook, but you'll need to provide your own prime-testing function.\n",
                "q,p = makeQP(32,48)\n",
                "print('Your code produced:\\n\\tq=%d\\n\\tp=%d'%(q,p))\n",
                "print('Checking the output...')\n",
                "checkQP(q,p,32,48)\n"
            ]
        },
        {
            "cell_type": "code",
            "execution_count": 6,
            "metadata": {},
            "outputs": [
                {
                    "name": "stdout",
                    "output_type": "stream",
                    "text": [
                        "Your code produced:\n",
                        "\tq=9223372036854775837\n",
                        "\tp=633825301054898650500403563407\n",
                        "Checking the output...\n",
                        "q has the correct number of bits.\n",
                        "p has the correct number of bits.\n",
                        "p is 1 mod q, as desired.\n",
                        "q is prime.\n",
                        "p is prime.\n"
                    ]
                }
            ],
            "source": [
                "# Sample test case (64-bit q; 100-bit p)\n",
                "# Expected: Many possible answers. A few lines to check whether your answer works are provided in the testing notebook, but you'll need to provide your own prime-testing function.\n",
                "q,p = makeQP(64,100)\n",
                "print('Your code produced:\\n\\tq=%d\\n\\tp=%d'%(q,p))\n",
                "print('Checking the output...')\n",
                "checkQP(q,p,64,100)\n"
            ]
        },
        {
            "cell_type": "code",
            "execution_count": 9,
            "metadata": {},
            "outputs": [
                {
                    "name": "stdout",
                    "output_type": "stream",
                    "text": [
                        "Your code produced:\n",
                        "\tq=57896044618658097711785492504343953926634992332820282019728792003956564820063\n",
                        "\tp=6703903964971298549787012499102923063739682910296196688861780721860882015058658193266789910018506630011657943677511052528683008009430768350712406005007813\n",
                        "Checking the output...\n",
                        "q has the correct number of bits.\n",
                        "p has the correct number of bits.\n",
                        "p is 1 mod q, as desired.\n",
                        "q is prime.\n",
                        "p is prime.\n"
                    ]
                }
            ],
            "source": [
                "# Sample test case (256-bit q; 512-bit p)\n",
                "# Expected: Many possible answers. A few lines to check whether your answer works are provided in the testing notebook, but you'll need to provide your own prime-testing function.\n",
                "q,p = makeQP(256,512)\n",
                "print('Your code produced:\\n\\tq=%d\\n\\tp=%d'%(q,p))\n",
                "print('Checking the output...')\n",
                "checkQP(q,p,256,512)\n"
            ]
        }
    ],
    "metadata": {
        "kernelspec": {
            "display_name": "base",
            "language": "python",
            "name": "python3"
        },
        "language_info": {
            "codemirror_mode": {
                "name": "ipython",
                "version": 3
            },
            "file_extension": ".py",
            "mimetype": "text/x-python",
            "name": "python",
            "nbconvert_exporter": "python",
            "pygments_lexer": "ipython3",
            "version": "3.11.5"
        }
    },
    "nbformat": 4,
    "nbformat_minor": 2
}
