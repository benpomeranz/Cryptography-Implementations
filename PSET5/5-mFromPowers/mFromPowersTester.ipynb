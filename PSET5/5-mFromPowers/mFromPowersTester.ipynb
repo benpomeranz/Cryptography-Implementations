{
    "cells": [
        {
            "cell_type": "markdown",
            "metadata": {},
            "source": [
                "In one of the written problems (HPS 3.13), you saw that it is unsafe to use the same modulus $N$ in two different RSA public keys. In this problem, you will implement the algorithm that Eve could use to exploit that situation, in a more general context.\n",
                "\n",
                "Suppose that you know a modulus $N$, two relatively prime integers $e,f$, and two powers $m^e \\pmod{N}$ and $m^f \\pmod{N}$ of an unknown integer $m$. You may assume that $m$ is a unit modulo $N$. Write a function $\\texttt{mFromPowers(N,e,f,me,mf)}$ that computes and returns the unknown integer $m$ (you should return $m$ reduced modulo $N$, i.e. $0 \\leq m < N$). The integer $N$ will be $1000$ bits long in the largest test cases, but a naive approach will earn partial credit.\n",
                "\n",
                "${\\it Note:}$ this algorithm has peaceful uses as well. In fact, you can think of RSA decryption as a special case: when Alice receives an RSA message, she knows $m^e \\pmod{N}$ and $m^f \\pmod{N}$, where $f = (p-1)(q-1)$ ($m^f \\equiv 1 \\pmod{N}$ in this case). Since $\\gcd(e,(p-1)(q-1)) = 1$, this function would be able to decipher the message. Take some time to think about why only Alice can do this, and not Eve.\n"
            ]
        },
        {
            "cell_type": "code",
            "execution_count": 39,
            "metadata": {
                "mainSource": true
            },
            "outputs": [],
            "source": [
                "# Run this cell every time you change your source code.\n",
                "import importlib, mFromPowersSoln\n",
                "importlib.reload(mFromPowersSoln)\n",
                "from mFromPowersSoln import mFromPowers"
            ]
        },
        {
            "cell_type": "code",
            "execution_count": 40,
            "metadata": {},
            "outputs": [
                {
                    "data": {
                        "text/plain": [
                            "10"
                        ]
                    },
                    "execution_count": 40,
                    "metadata": {},
                    "output_type": "execute_result"
                }
            ],
            "source": [
                "# Sample test case (4-bit modulus)\n",
                "# Expected: 10\n",
                "# Time limit: 1s (not enforced by this notebook)\n",
                "mFromPowers(13,11,5,4,4)"
            ]
        },
        {
            "cell_type": "code",
            "execution_count": 41,
            "metadata": {},
            "outputs": [
                {
                    "data": {
                        "text/plain": [
                            "242"
                        ]
                    },
                    "execution_count": 41,
                    "metadata": {},
                    "output_type": "execute_result"
                }
            ],
            "source": [
                "# Sample test case (10-bit modulus)\n",
                "# Expected: 242\n",
                "# Time limit: 1s (not enforced by this notebook)\n",
                "mFromPowers(967,46,871,651,315)"
            ]
        },
        {
            "cell_type": "code",
            "execution_count": 42,
            "metadata": {},
            "outputs": [
                {
                    "data": {
                        "text/plain": [
                            "5991"
                        ]
                    },
                    "execution_count": 42,
                    "metadata": {},
                    "output_type": "execute_result"
                }
            ],
            "source": [
                "# Sample test case (16-bit modulus)\n",
                "# Expected: 5991\n",
                "# Time limit: 1s (not enforced by this notebook)\n",
                "mFromPowers(51131,9766,30497,40693,20340)"
            ]
        },
        {
            "cell_type": "code",
            "execution_count": 43,
            "metadata": {},
            "outputs": [
                {
                    "data": {
                        "text/plain": [
                            "417189"
                        ]
                    },
                    "execution_count": 43,
                    "metadata": {},
                    "output_type": "execute_result"
                }
            ],
            "source": [
                "# Sample test case (20-bit modulus)\n",
                "# Expected: 417189\n",
                "# Time limit: 1s (not enforced by this notebook)\n",
                "mFromPowers(670831,64457,516912,373938,149535)"
            ]
        },
        {
            "cell_type": "code",
            "execution_count": 44,
            "metadata": {},
            "outputs": [
                {
                    "data": {
                        "text/plain": [
                            "940732628956812813838272360717773748151237331416206003699387040126697291081431610424113804271657517998173894903231402232913537034527375098177246042468997"
                        ]
                    },
                    "execution_count": 44,
                    "metadata": {},
                    "output_type": "execute_result"
                }
            ],
            "source": [
                "# Sample test case (510-bit modulus)\n",
                "# Expected: 940732628956812813838272360717773748151237331416206003699387040126697291081431610424113804271657517998173894903231402232913537034527375098177246042468997\n",
                "# Time limit: 1s (not enforced by this notebook)\n",
                "mFromPowers(2266060455972467414278533042597124996646514484060567314149844963690990318561359161698671454088579118385124062359814864506943850807079960192559173876507993,905979518921139112072849027484407955940864918052899430498593083564392561276461377547375283963953013046384699028259023912974374322408749245020906438800531,493264836502156513120793943840175120174351758237628040304110681343452670947534765250575893889828028880300891716893910975510853178227063221491674293268869,1812115954590463659349046904400146711616340746140321545302843192319956637853740709982532980495234272380407055376048468993184333601085200404015778362992455,890737211390011897734811983886075778003673390864111846768158762096665189031982880574339851944397565745360418505055186126141621499539921569215191594155417)"
            ]
        },
        {
            "cell_type": "code",
            "execution_count": 45,
            "metadata": {},
            "outputs": [
                {
                    "data": {
                        "text/plain": [
                            "7796078558033523469784877866381204988813490661644262583574163673662691470309865416066537023123839352459149775336172030840719789469385193121177270061051577484586519750093194080326262741997514502049992150882903722704109429898305439931693576477879868891137296055922818266649010311668199875833233376513379"
                        ]
                    },
                    "execution_count": 45,
                    "metadata": {},
                    "output_type": "execute_result"
                }
            ],
            "source": [
                "# Sample test case (1000-bit modulus)\n",
                "# Expected: 7796078558033523469784877866381204988813490661644262583574163673662691470309865416066537023123839352459149775336172030840719789469385193121177270061051577484586519750093194080326262741997514502049992150882903722704109429898305439931693576477879868891137296055922818266649010311668199875833233376513379\n",
                "# Time limit: 1s (not enforced by this notebook)\n",
                "mFromPowers(8615616949801718814991179521847237479238904553648035371721956553137437072179567071320039908767062302019985404682446289001695820041619545393881033734151777851425029200020099762964886832083910680477495629560558514036129419881527259996252676652731922635842660607474513434615251066190801068637441830714230,4576844056218293069263351699905078654454899110230258838970461726780907725764888937170640854708240571345092347273858284296720638236349179253414428480149379430934608677400758582601726922066203220827812923627393029467944589459577293259684389179018738096608830606303510038323117646309822438518919287454977,7799932771745100208698858914948120789023237267076997319227149158803693115907081337831650829041775005732474332576466768229072073098711988183945805916625752628845926245786756562198640338488105323798928736366188791404714358901705888390595148333616421649427237625067356319482396310667652548929557548034863,7126746619963753773195013251311848605605574083340256596384808608302105682933416683059289984564143043889935072308949802046638352114182409980275710082387473130349289349066948252219948236815804743762116272857373298309762913312967577170989666117976371004935223570815657710438221095256766415691046737265799,1406455323713984180033032442191342506831360123142993451929946096893392188371120590638016747737174532574219145358456734373303894757280834630344439558648579601317898846904690957208904877148107120578270079805603594333111849509027819091548450793859263967798393202937492605770469904921886768310735612901989)"
            ]
        },
        {
            "cell_type": "code",
            "execution_count": 41,
            "metadata": {},
            "outputs": [
                {
                    "data": {
                        "text/plain": [
                            "37"
                        ]
                    },
                    "execution_count": 41,
                    "metadata": {},
                    "output_type": "execute_result"
                }
            ],
            "source": [
                "import math\n",
                "def inv(a, b):\n",
                "    x1, y1 = 1, 0\n",
                "    x2, y2 = 0, 1\n",
                "    while(b!=0):\n",
                "        x1c =x1\n",
                "        y1c =y1\n",
                "        x1, y1 = x2, y2\n",
                "        x2, y2 = x1c - (a//b)*x2, y1c - (a//b)*y2\n",
                "        a, b = b, a%b\n",
                "    return x1\n",
                "#449 for 220459 using factorial of 8\n",
                "#6917 for 48356747, using 19 factorial\n",
                "math.gcd(pow(2, (math.factorial(7)), 1739)-1, 1739) # 7 for 1729, by factorial of 3"
            ]
        }
    ],
    "metadata": {
        "kernelspec": {
            "display_name": "Python 3",
            "language": "python",
            "name": "python3"
        },
        "language_info": {
            "codemirror_mode": {
                "name": "ipython",
                "version": 3
            },
            "file_extension": ".py",
            "mimetype": "text/x-python",
            "name": "python",
            "nbconvert_exporter": "python",
            "pygments_lexer": "ipython3",
            "version": "3.11.5"
        }
    },
    "nbformat": 4,
    "nbformat_minor": 2
}
