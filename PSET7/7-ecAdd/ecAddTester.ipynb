{
    "cells": [
        {
            "cell_type": "markdown",
            "metadata": {},
            "source": [
                "Write a function $\\texttt{ecAdd(P,Q,A,B,p)}$ to compute the sum $P + Q$ of two points on the Elliptic Curve over $\\ff_p$ defined by $Y^2 = X^3 + A X + B$. You may assume that $P$ and $Q$ are both valid points on the curve (though of course if you were using this code in real life, you should add some error handling that checks this). The points $P$ and $Q$ will be either pairs $(x,y)$ of elements of $\\mathbb{Z} / p \\mathbb{Z}$, or the integer $\\texttt{0}$ (as a stand-in for the point $\\mathcal{O}$ at infinity), and the function should return the result in the same format.\n"
            ]
        },
        {
            "cell_type": "code",
            "execution_count": 1,
            "metadata": {
                "mainSource": true
            },
            "outputs": [],
            "source": [
                "# Run this cell every time you change your source code.\n",
                "import importlib, ecAddSoln\n",
                "importlib.reload(ecAddSoln)\n",
                "from ecAddSoln import ecAdd"
            ]
        },
        {
            "cell_type": "code",
            "execution_count": 2,
            "metadata": {},
            "outputs": [
                {
                    "ename": "TypeError",
                    "evalue": "ecAdd() takes 4 positional arguments but 5 were given",
                    "output_type": "error",
                    "traceback": [
                        "\u001b[0;31m---------------------------------------------------------------------------\u001b[0m",
                        "\u001b[0;31mTypeError\u001b[0m                                 Traceback (most recent call last)",
                        "Cell \u001b[0;32mIn[2], line 4\u001b[0m\n\u001b[1;32m      1\u001b[0m \u001b[38;5;66;03m# Sample test case (5-bit prime modulus; secant line)\u001b[39;00m\n\u001b[1;32m      2\u001b[0m \u001b[38;5;66;03m# Expected: (5, 16)\u001b[39;00m\n\u001b[1;32m      3\u001b[0m \u001b[38;5;66;03m# Time limit: 1s (not enforced by this notebook)\u001b[39;00m\n\u001b[0;32m----> 4\u001b[0m ecAdd((\u001b[38;5;241m4\u001b[39m, \u001b[38;5;241m21\u001b[39m),(\u001b[38;5;241m26\u001b[39m, \u001b[38;5;241m19\u001b[39m),\u001b[38;5;241m15\u001b[39m,\u001b[38;5;241m27\u001b[39m,\u001b[38;5;241m29\u001b[39m)\n",
                        "\u001b[0;31mTypeError\u001b[0m: ecAdd() takes 4 positional arguments but 5 were given"
                    ]
                }
            ],
            "source": [
                "# Sample test case (5-bit prime modulus; secant line)\n",
                "# Expected: (5, 16)\n",
                "# Time limit: 1s (not enforced by this notebook)\n",
                "ecAdd((4, 21),(26, 19),15,27,29)"
            ]
        },
        {
            "cell_type": "code",
            "execution_count": null,
            "metadata": {},
            "outputs": [
                {
                    "data": {
                        "text/plain": [
                            "(23, 2)"
                        ]
                    },
                    "execution_count": 8,
                    "metadata": {},
                    "output_type": "execute_result"
                }
            ],
            "source": [
                "# Sample test case (5-bit prime modulus; tangent line)\n",
                "# Expected: (23, 2)\n",
                "# Time limit: 1s (not enforced by this notebook)\n",
                "ecAdd((11, 30),(11, 30),4,21,31)"
            ]
        },
        {
            "cell_type": "code",
            "execution_count": null,
            "metadata": {},
            "outputs": [
                {
                    "data": {
                        "text/plain": [
                            "0"
                        ]
                    },
                    "execution_count": 9,
                    "metadata": {},
                    "output_type": "execute_result"
                }
            ],
            "source": [
                "# Sample test case (32-bit prime modulus; O plus O)\n",
                "# Expected: 0\n",
                "# Time limit: 1s (not enforced by this notebook)\n",
                "ecAdd(0,0,1897042781,1388163919,2529220667)"
            ]
        },
        {
            "cell_type": "code",
            "execution_count": null,
            "metadata": {},
            "outputs": [
                {
                    "data": {
                        "text/plain": [
                            "(524155184, 1596099238)"
                        ]
                    },
                    "execution_count": 10,
                    "metadata": {},
                    "output_type": "execute_result"
                }
            ],
            "source": [
                "# Sample test case (32-bit prime modulus; P plus O)\n",
                "# Expected: (524155184, 1596099238)\n",
                "# Time limit: 1s (not enforced by this notebook)\n",
                "ecAdd((524155184, 1596099238),0,1966712016,292658260,2476223329)"
            ]
        },
        {
            "cell_type": "code",
            "execution_count": null,
            "metadata": {},
            "outputs": [
                {
                    "data": {
                        "text/plain": [
                            "(974219041, 1345454820)"
                        ]
                    },
                    "execution_count": 11,
                    "metadata": {},
                    "output_type": "execute_result"
                }
            ],
            "source": [
                "# Sample test case (32-bit prime modulus; 0 plus P)\n",
                "# Expected: (974219041, 1345454820)\n",
                "# Time limit: 1s (not enforced by this notebook)\n",
                "ecAdd(0,(974219041, 1345454820),2382765194,982435975,2999452549)"
            ]
        },
        {
            "cell_type": "code",
            "execution_count": null,
            "metadata": {},
            "outputs": [
                {
                    "data": {
                        "text/plain": [
                            "0"
                        ]
                    },
                    "execution_count": 12,
                    "metadata": {},
                    "output_type": "execute_result"
                }
            ],
            "source": [
                "# Sample test case (32-bit prime modulus; vertical secant line)\n",
                "# Expected: 0\n",
                "# Time limit: 1s (not enforced by this notebook)\n",
                "ecAdd((2333303298, 2829345365),(2333303298, 416909232),21788004,1527231478,3246254597)"
            ]
        },
        {
            "cell_type": "code",
            "execution_count": null,
            "metadata": {},
            "outputs": [
                {
                    "data": {
                        "text/plain": [
                            "0"
                        ]
                    },
                    "execution_count": 13,
                    "metadata": {},
                    "output_type": "execute_result"
                }
            ],
            "source": [
                "# Sample test case (32-bit prime modulus; vertical tangent line)\n",
                "# Expected: 0\n",
                "# Time limit: 1s (not enforced by this notebook)\n",
                "ecAdd((3049078054, 0),(3049078054, 0),1126555365,2737935498,3086199881)"
            ]
        },
        {
            "cell_type": "code",
            "execution_count": null,
            "metadata": {},
            "outputs": [
                {
                    "data": {
                        "text/plain": [
                            "(2808785690, 533280200)"
                        ]
                    },
                    "execution_count": 14,
                    "metadata": {},
                    "output_type": "execute_result"
                }
            ],
            "source": [
                "# Sample test case (32-bit prime modulus; tangent line)\n",
                "# Expected: (2808785690, 533280200)\n",
                "# Time limit: 1s (not enforced by this notebook)\n",
                "ecAdd((1957103661, 1816129263),(1957103661, 1816129263),1098412609,2123152421,3395479979)"
            ]
        },
        {
            "cell_type": "code",
            "execution_count": null,
            "metadata": {},
            "outputs": [
                {
                    "data": {
                        "text/plain": [
                            "(425094995, 780910393)"
                        ]
                    },
                    "execution_count": 15,
                    "metadata": {},
                    "output_type": "execute_result"
                }
            ],
            "source": [
                "# Sample test case (32-bit prime modulus; secant line)\n",
                "# Expected: (425094995, 780910393)\n",
                "# Time limit: 1s (not enforced by this notebook)\n",
                "ecAdd((448299943, 2102189588),(1397752146, 2218850165),1938472370,251164045,2712660781)"
            ]
        },
        {
            "cell_type": "code",
            "execution_count": null,
            "metadata": {},
            "outputs": [
                {
                    "data": {
                        "text/plain": [
                            "([[[0, (1, 2), (1, 3), (4, 0)]],\n",
                            "  [[(1, 2), (4, 5), 0, (1, 3)]],\n",
                            "  [[(1, 3), 0, (4, 5), (1, 2)]],\n",
                            "  [[(4, 0), (1, 3), (1, 2), 0]]],\n",
                            " [0, (1, 2), (1, 3), (4, 0)])"
                        ]
                    },
                    "execution_count": 22,
                    "metadata": {},
                    "output_type": "execute_result"
                }
            ],
            "source": [
                "import math\n",
                "def howMany(p):\n",
                "    num = [0]\n",
                "    for i in range(p):\n",
                "        for j in range(p):\n",
                "            if pow(j, 2, p) == (pow(i, 3, p) + i + 2) % p:\n",
                "                num.append((i, j))\n",
                "    return num\n",
                "returnList = []\n",
                "for element in howMany(5):\n",
                "    returnList2 = []\n",
                "    for element2 in howMany(5):\n",
                "        returnList2.append(ecAdd(element, element2, 1, 2, 5))\n",
                "    returnList.append([returnList2])\n",
                "returnList, howMany(5)"
            ]
        }
    ],
    "metadata": {
        "kernelspec": {
            "display_name": "Python 3",
            "language": "python",
            "name": "python3"
        },
        "language_info": {
            "codemirror_mode": {
                "name": "ipython",
                "version": 3
            },
            "file_extension": ".py",
            "mimetype": "text/x-python",
            "name": "python",
            "nbconvert_exporter": "python",
            "pygments_lexer": "ipython3",
            "version": "3.11.5"
        }
    },
    "nbformat": 4,
    "nbformat_minor": 2
}
