{
    "cells": [
        {
            "cell_type": "markdown",
            "metadata": {},
            "source": [
                "Write a function $\\texttt{ecDLP(P,Q,A,B,p,q)}$ to solve the elliptic curve discrete logarithm problem, in cases where the prime $p$ is up to 28 bits. Here, $P,Q$ are points on the curve $Y^2 \\equiv X^3 + A X + B \\pmod{p}$, and you are given, for convenience, the number $q$ of points on the curve (which you may assume to be prime). The function should return the minimum nonnegative $n$ such that $n \\cdot P = Q$. Note that if you find any such solution $n'$, then you can find the minimum solution by computing $n' \\pmod{q}$.\n",
                "\n",
                "A naive trial-and-error approach will earn partial credit, but to solve all test cases I recommend adapting the BSGS algorithm to the setting of elliptic curves\n"
            ]
        },
        {
            "cell_type": "code",
            "execution_count": 11,
            "metadata": {
                "mainSource": true
            },
            "outputs": [],
            "source": [
                "# Run this cell every time you change your source code.\n",
                "import importlib, ecDLPSoln\n",
                "importlib.reload(ecDLPSoln)\n",
                "from ecDLPSoln import ecDLP\n",
                "from ecDLPSoln import ecMult"
            ]
        },
        {
            "cell_type": "code",
            "execution_count": 12,
            "metadata": {},
            "outputs": [
                {
                    "data": {
                        "text/plain": [
                            "3"
                        ]
                    },
                    "execution_count": 12,
                    "metadata": {},
                    "output_type": "execute_result"
                }
            ],
            "source": [
                "# Sample test case (3-bit modulus)\n",
                "# Expected: 3\n",
                "# Time limit: 1s (not enforced by this notebook)\n",
                "ecDLP((1, 2),(0, 1),2,1,5,7)"
            ]
        },
        {
            "cell_type": "code",
            "execution_count": 13,
            "metadata": {},
            "outputs": [
                {
                    "data": {
                        "text/plain": [
                            "2"
                        ]
                    },
                    "execution_count": 13,
                    "metadata": {},
                    "output_type": "execute_result"
                }
            ],
            "source": [
                "# Sample test case (4-bit modulus)\n",
                "# Expected: 2\n",
                "# Time limit: 1s (not enforced by this notebook)\n",
                "ecDLP((10, 1),(5, 2),7,9,11,17)"
            ]
        },
        {
            "cell_type": "code",
            "execution_count": 14,
            "metadata": {},
            "outputs": [
                {
                    "data": {
                        "text/plain": [
                            "12"
                        ]
                    },
                    "execution_count": 14,
                    "metadata": {},
                    "output_type": "execute_result"
                }
            ],
            "source": [
                "# Sample test case (5-bit modulus)\n",
                "# Expected: 12\n",
                "# Time limit: 1s (not enforced by this notebook)\n",
                "ecDLP((16, 15),(1, 4),5,10,17,23)"
            ]
        },
        {
            "cell_type": "code",
            "execution_count": 15,
            "metadata": {},
            "outputs": [
                {
                    "data": {
                        "text/plain": [
                            "5173"
                        ]
                    },
                    "execution_count": 15,
                    "metadata": {},
                    "output_type": "execute_result"
                }
            ],
            "source": [
                "# Sample test case (14-bit modulus)\n",
                "# Expected: 5173\n",
                "# Time limit: 1s (not enforced by this notebook)\n",
                "ecDLP((13826, 7953),(2561, 5312),12057,8649,16033,16189)"
            ]
        },
        {
            "cell_type": "code",
            "execution_count": 16,
            "metadata": {},
            "outputs": [
                {
                    "data": {
                        "text/plain": [
                            "152406980"
                        ]
                    },
                    "execution_count": 16,
                    "metadata": {},
                    "output_type": "execute_result"
                }
            ],
            "source": [
                "# Sample test case (28-bit modulus)\n",
                "# Expected: 152406980\n",
                "# Time limit: 1s (not enforced by this notebook)\n",
                "ecDLP((10906124, 6845701),(135605525, 57056440),143544335,117949918,158397847,158374199)"
            ]
        },
        {
            "cell_type": "code",
            "execution_count": 17,
            "metadata": {},
            "outputs": [
                {
                    "ename": "IndentationError",
                    "evalue": "expected an indented block (3573318124.py, line 4)",
                    "output_type": "error",
                    "traceback": [
                        "\u001b[0;36m  Cell \u001b[0;32mIn[17], line 4\u001b[0;36m\u001b[0m\n\u001b[0;31m    \u001b[0m\n\u001b[0m    ^\u001b[0m\n\u001b[0;31mIndentationError\u001b[0m\u001b[0;31m:\u001b[0m expected an indented block\n"
                    ]
                }
            ],
            "source": [
                "from ecDLPSoln import ecMult\n",
                "\n",
                "for n in range(5000):\n",
                "    "
            ]
        }
    ],
    "metadata": {
        "kernelspec": {
            "display_name": "Python 3",
            "language": "python",
            "name": "python3"
        },
        "language_info": {
            "codemirror_mode": {
                "name": "ipython",
                "version": 3
            },
            "file_extension": ".py",
            "mimetype": "text/x-python",
            "name": "python",
            "nbconvert_exporter": "python",
            "pygments_lexer": "ipython3",
            "version": "3.9.15"
        }
    },
    "nbformat": 4,
    "nbformat_minor": 2
}
