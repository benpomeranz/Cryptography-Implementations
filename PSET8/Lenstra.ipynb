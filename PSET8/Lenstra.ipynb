{
 "cells": [
  {
   "cell_type": "code",
   "execution_count": 7,
   "metadata": {},
   "outputs": [
    {
     "name": "stdout",
     "output_type": "stream",
     "text": [
      "117763\n",
      "238639\n"
     ]
    }
   ],
   "source": [
    "import math\n",
    "def ecAdd(P, Q, A, p):\n",
    "    # Should either return 0 (for point at infinity)\n",
    "    #   or return (x,y), where x,y are in Z / p Z\n",
    "    # assumes points P,Q, lie on elliptic curve eAB \n",
    "    if [P, Q] == [0, 0]:\n",
    "        return 0\n",
    "    if P == 0:\n",
    "        return Q\n",
    "    if Q == 0:\n",
    "        return P\n",
    "    if P == Q:  # tangent\n",
    "        if P[1] == 0:  # tangent at 0\n",
    "            return 0\n",
    "        slope = (3 * P[0] ** 2 + A) * pow(2 * P[1], -1, p)\n",
    "    else:\n",
    "        if P[0] == Q[0]:\n",
    "            return 0\n",
    "        slope = 0\n",
    "        try:\n",
    "            slope = (P[1] - Q[1]) * pow(P[0] - Q[0], -1, p)\n",
    "        except:\n",
    "            print(math.gcd(P[0]-Q[0], p))\n",
    "    x = (slope ** 2 - P[0] - Q[0]) % p\n",
    "    y = (slope * (x - P[0]) + P[1]) % p\n",
    "    return (x, (p - y) % p)\n",
    "\n",
    "def ecMult(n,P,A,B,p):\n",
    "    # Your code here\n",
    "    if n<0:\n",
    "        n = n*-1\n",
    "        P = (P[0], -1*P[1])\n",
    "    prod = 0\n",
    "    if P == 0:\n",
    "        return 0\n",
    "    if P[1] < 0:\n",
    "        P = (P[0], p - P[1])\n",
    "    while n > 0:\n",
    "        if n % 2 == 1:\n",
    "            prod = ecAdd(prod, P, A, p)\n",
    "            n = n - 1\n",
    "        n = n//2\n",
    "        P = ecAdd(P, P, A, p)\n",
    "    return prod\n",
    "\n",
    "for n in range(1, 10000):\n",
    "    ecMult(n, (7, 4), 18, -453, 28102844557)"
   ]
  }
 ],
 "metadata": {
  "kernelspec": {
   "display_name": "Python 3",
   "language": "python",
   "name": "python3"
  },
  "language_info": {
   "codemirror_mode": {
    "name": "ipython",
    "version": 3
   },
   "file_extension": ".py",
   "mimetype": "text/x-python",
   "name": "python",
   "nbconvert_exporter": "python",
   "pygments_lexer": "ipython3",
   "version": "3.9.15"
  }
 },
 "nbformat": 4,
 "nbformat_minor": 2
}
