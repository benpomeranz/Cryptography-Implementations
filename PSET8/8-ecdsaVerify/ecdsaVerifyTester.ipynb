{
    "cells": [
        {
            "cell_type": "markdown",
            "metadata": {},
            "source": [
                "ECDH with point compression. (write a new problem)\n",
                "\n",
                "\\item Write a function $\\texttt{verifyECDSA(V,d,s1,s2)}$ that determines whether $(s_1,s_2)$ is a valid ECDSA signature for the document $d$ and the public (verification) key $V$ (see p. 322 in HPS for notation regarding ECDSA), using Elliptic curve ``P-384.'' You should look up the specifics of curve P-384, e.g. by finding the relevant information in the standards document at the link below. You will also need to look up how to convert hexadecimal strings to integers in Python.\n",
                "\n",
                "\\url{https://nvlpubs.nist.gov/nistpubs/fips/nist.fips.186-4.pdf}\n",
                "\n",
                "You may enjoy looking through the standards document to see what other sorts of information it contains.\n"
            ]
        },
        {
            "cell_type": "code",
            "execution_count": 1,
            "metadata": {
                "mainSource": true
            },
            "outputs": [],
            "source": [
                "# Run this cell every time you change your source code.\n",
                "import importlib, ecdsaVerifySoln\n",
                "importlib.reload(ecdsaVerifySoln)\n",
                "from ecdsaVerifySoln import ecdsaVerify"
            ]
        },
        {
            "cell_type": "code",
            "execution_count": 2,
            "metadata": {},
            "outputs": [
                {
                    "name": "stdout",
                    "output_type": "stream",
                    "text": [
                        "18958286285566608000408668544493926415504680968679321075787234672564\n"
                    ]
                }
            ],
            "source": [
                "print(int(\"0xb4050a850c04b3abf54132565044b0b7d7bfd8ba270b39432355ffb4\", 0))"
            ]
        },
        {
            "cell_type": "code",
            "execution_count": 3,
            "metadata": {},
            "outputs": [
                {
                    "data": {
                        "text/plain": [
                            "False"
                        ]
                    },
                    "execution_count": 3,
                    "metadata": {},
                    "output_type": "execute_result"
                }
            ],
            "source": [
                "# Sample test case\n",
                "# Expected: False\n",
                "# Time limit: 1s (not enforced by this notebook)\n",
                "ecdsaVerify((34690110063110289776325376917852816141105769491676561520639085283036198822734254643882167994271427153811176075884398, 18738837398648703109616033314365657893280483020448188241605746298367997356580729435286447423199282309570544121577644),9435962257300115057085550694077459762174991848063754086102948147540833351941121178856102747435711805126015135798498,28287514030041823082174352311979304089629261070408801834852053419704569374232959150559321308170104243676065556595151,34719451397502604928479607227105330869840753750506974157721410593036742332023877902901640161244717461022641023101863)"
            ]
        },
        {
            "cell_type": "code",
            "execution_count": 4,
            "metadata": {},
            "outputs": [
                {
                    "data": {
                        "text/plain": [
                            "True"
                        ]
                    },
                    "execution_count": 4,
                    "metadata": {},
                    "output_type": "execute_result"
                }
            ],
            "source": [
                "# Sample test case\n",
                "# Expected: True\n",
                "# Time limit: 1s (not enforced by this notebook)\n",
                "ecdsaVerify((29268931768027464334866773472384853021368345731619918476326935920991181940447917849379871105869924517217051811119343, 8996407446378417578589449416057665201517551230054800298983685170864368557503028842291119888916215326141489925865024),30062955288966635731610495047019813023842580999354239848821589388549401426321767168385049666214600276922756519240890,16579856287478424837118014027843125665764748206746322912877044770391039182334581314425041819720393571563050939288157,1083966516644532369407936735529980682812842052237612041390884706424959005042202216227704451558760270435556872415859)"
            ]
        },
        {
            "cell_type": "code",
            "execution_count": 5,
            "metadata": {},
            "outputs": [
                {
                    "data": {
                        "text/plain": [
                            "True"
                        ]
                    },
                    "execution_count": 5,
                    "metadata": {},
                    "output_type": "execute_result"
                }
            ],
            "source": [
                "# Sample test case\n",
                "# Expected: True\n",
                "# Time limit: 1s (not enforced by this notebook)\n",
                "ecdsaVerify((13409579179128671027561177851205536321631837019041570946748450235228201377488926042679809171775969048901734176070305, 34556486262801156738067136243170321537372725946311114085641523598581485153269755979711668251326033568897263414113762),11852238333681465865204077307413422828783367705729555634662048327239969837679491845556205430979695578713936902052448,3144763557625754208915245811416757785360755291505639959219261115317323212242347073795400144543447088810033430005350,27359326877097177648496804115611600797270368575407544192780381692769641137206280157643722923349719274992916702609195)"
            ]
        },
        {
            "cell_type": "code",
            "execution_count": 6,
            "metadata": {},
            "outputs": [
                {
                    "data": {
                        "text/plain": [
                            "False"
                        ]
                    },
                    "execution_count": 6,
                    "metadata": {},
                    "output_type": "execute_result"
                }
            ],
            "source": [
                "# Sample test case\n",
                "# Expected: False\n",
                "# Time limit: 1s (not enforced by this notebook)\n",
                "ecdsaVerify((10004394684859834907663595305040939126795699365934835244920977295253142665693405117672886177619750110133003400584176, 34684012160968411295252849831994457660564755605178120307188095306598857500818818528053708239883413700880351294590630),6209123957704437032730710134041512544922407373921745153876489387957605331296336840699241688834647438489391163413828,3687070982154596613600202238464818996775338827905281614786352440659277228329463746854171602220620408447976147376678,16737377652180797285679437448558544408842594339512489442498383611555333208935141711772041681141782594404771291110876)"
            ]
        },
        {
            "cell_type": "code",
            "execution_count": 7,
            "metadata": {},
            "outputs": [
                {
                    "data": {
                        "text/plain": [
                            "True"
                        ]
                    },
                    "execution_count": 7,
                    "metadata": {},
                    "output_type": "execute_result"
                }
            ],
            "source": [
                "# Sample test case\n",
                "# Expected: True\n",
                "# Time limit: 1s (not enforced by this notebook)\n",
                "ecdsaVerify((36327255037790165521959510942251177537654409726332407576528356060334471048081236406969916985225746965893356214074808, 33205722150810234480645527267426317775605938465247991617871613483549205578451304832835563121635412630299590792294875),19291191011330440264511852484450013803505294602614583040573302257624532485343866369753035549049169150069152198554640,20212738234370200221972316204514354877432064866620371364224220881464013872584657023587947477070493752775907764880162,24625564204497349891877862745579011893900959595295932557937816238095955005878148717187816980616730194042359195935894)"
            ]
        }
    ],
    "metadata": {
        "kernelspec": {
            "display_name": "Python 3",
            "language": "python",
            "name": "python3"
        },
        "language_info": {
            "codemirror_mode": {
                "name": "ipython",
                "version": 3
            },
            "file_extension": ".py",
            "mimetype": "text/x-python",
            "name": "python",
            "nbconvert_exporter": "python",
            "pygments_lexer": "ipython3",
            "version": "3.9.15"
        }
    },
    "nbformat": 4,
    "nbformat_minor": 2
}
