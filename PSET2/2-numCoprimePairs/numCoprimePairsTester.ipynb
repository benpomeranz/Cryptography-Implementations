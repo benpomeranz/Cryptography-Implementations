{
    "cells": [
        {
            "cell_type": "markdown",
            "metadata": {},
            "source": [
                "Write a function $\\texttt{numCoprimePairs(A,B)}$ that receives two positive integers $A,B$ with $A \\leq B$, and returns the number of pairs of integers $(m,n)$ such that both $m$ and $n$ are chosen from the set $\\{A, A+1, \\cdots, B\\}$ and $\\gcd(m,n) = 1$. (This function will be used in one of the written problems above.)\n"
            ]
        },
        {
            "cell_type": "code",
            "execution_count": 1,
            "metadata": {
                "mainSource": true
            },
            "outputs": [],
            "source": [
                "# Run this cell every time you change your source code.\n",
                "import importlib, numCoprimePairsSoln\n",
                "import math\n",
                "importlib.reload(numCoprimePairsSoln)\n",
                "from numCoprimePairsSoln import numCoprimePairs, eucAlg"
            ]
        },
        {
            "cell_type": "code",
            "execution_count": 2,
            "metadata": {},
            "outputs": [
                {
                    "data": {
                        "text/plain": [
                            "63"
                        ]
                    },
                    "execution_count": 2,
                    "metadata": {},
                    "output_type": "execute_result"
                }
            ],
            "source": [
                "# Sample test case (4-bit upper bound)\n",
                "# Expected: 63\n",
                "# Time limit: 1s (not enforced by this notebook)\n",
                "numCoprimePairs(1,10)"
            ]
        },
        {
            "cell_type": "code",
            "execution_count": 3,
            "metadata": {},
            "outputs": [
                {
                    "data": {
                        "text/plain": [
                            "6087"
                        ]
                    },
                    "execution_count": 3,
                    "metadata": {},
                    "output_type": "execute_result"
                }
            ],
            "source": [
                "# Sample test case (7-bit upper bound)\n",
                "# Expected: 6087\n",
                "# Time limit: 1s (not enforced by this notebook)\n",
                "numCoprimePairs(1,100)"
            ]
        },
        {
            "cell_type": "code",
            "execution_count": 4,
            "metadata": {},
            "outputs": [
                {
                    "name": "stdout",
                    "output_type": "stream",
                    "text": [
                        "CPU times: user 171 ms, sys: 1.46 ms, total: 172 ms\n",
                        "Wall time: 174 ms\n"
                    ]
                },
                {
                    "data": {
                        "text/plain": [
                            "608383"
                        ]
                    },
                    "execution_count": 4,
                    "metadata": {},
                    "output_type": "execute_result"
                }
            ],
            "source": [
                "%%time\n",
                "# Sample test case (10-bit upper bound)\n",
                "# Expected: 608383\n",
                "# Time limit: 1s (not enforced by this notebook)\n",
                "numCoprimePairs(1,1000)"
            ]
        },
        {
            "cell_type": "code",
            "execution_count": 5,
            "metadata": {},
            "outputs": [
                {
                    "name": "stdout",
                    "output_type": "stream",
                    "text": [
                        "CPU times: user 45.4 ms, sys: 945 µs, total: 46.3 ms\n",
                        "Wall time: 46.4 ms\n"
                    ]
                },
                {
                    "data": {
                        "text/plain": [
                            "159260"
                        ]
                    },
                    "execution_count": 5,
                    "metadata": {},
                    "output_type": "execute_result"
                }
            ],
            "source": [
                "%%time\n",
                "# Sample test case (10-bit upper bound)\n",
                "# Expected: 159260\n",
                "# Time limit: 1s (not enforced by this notebook)\n",
                "numCoprimePairs(512,1023)"
            ]
        },
        {
            "cell_type": "code",
            "execution_count": 6,
            "metadata": {},
            "outputs": [
                {
                    "name": "stdout",
                    "output_type": "stream",
                    "text": [
                        "0.5625\n",
                        "0.640625\n",
                        "0.59765625\n",
                        "0.61083984375\n",
                        "0.6044921875\n",
                        "0.60968017578125\n",
                        "0.6075286865234375\n",
                        "0.6081180572509766\n",
                        "0.6076927185058594\n",
                        "0.6080609560012817\n",
                        "0.6079095304012299\n",
                        "0.6079253107309341\n"
                    ]
                }
            ],
            "source": [
                "for i in range(4, 16):\n",
                "    numCoPairs = numCoprimePairs(2**(i-1), 2**i - 1)\n",
                "    numPairs = (2**(i-1))**2\n",
                "    print(numCoPairs/numPairs)"
            ]
        }
    ],
    "metadata": {
        "kernelspec": {
            "display_name": "base",
            "language": "python",
            "name": "python3"
        },
        "language_info": {
            "codemirror_mode": {
                "name": "ipython",
                "version": 3
            },
            "file_extension": ".py",
            "mimetype": "text/x-python",
            "name": "python",
            "nbconvert_exporter": "python",
            "pygments_lexer": "ipython3",
            "version": "3.11.5"
        }
    },
    "nbformat": 4,
    "nbformat_minor": 2
}
