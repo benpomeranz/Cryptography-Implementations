{
    "cells": [
        {
            "cell_type": "markdown",
            "metadata": {},
            "source": [
                "Write a function $\\texttt{modpow(a,n,m)}$ that takes integers $a,n,m$ and returns $a^n \\pmod{m}$. The exponent $n$ may be positive or negative (it will be positive in at least half of the test cases), but you may assume that if $n<0$, then $a$ is a unit modulo $m$ (you'll need to use your code from the previous problem to handle the $n<0$ case). **For this problem, please do not use Python's built-in function for modular powers. You should implement the fast-powering algorithm yourself to see how it works. Challenge yourself to implement a different fast powering algorithm than we demoed in class, if you feel up to it!  However, you may look up and use the built-in powering function on all programming assignments after this one.** The test cases will range in size, with $a$ and $n$ 256-bit integers in the largest case.\n"
            ]
        },
        {
            "cell_type": "code",
            "execution_count": 1,
            "metadata": {
                "mainSource": true
            },
            "outputs": [],
            "source": [
                "# Run this cell every time you change your source code.\n",
                "import importlib, modpowSoln\n",
                "importlib.reload(modpowSoln)\n",
                "from modpowSoln import modpow"
            ]
        },
        {
            "cell_type": "code",
            "execution_count": 2,
            "metadata": {},
            "outputs": [
                {
                    "data": {
                        "text/plain": [
                            "4"
                        ]
                    },
                    "execution_count": 2,
                    "metadata": {},
                    "output_type": "execute_result"
                }
            ],
            "source": [
                "# Sample test case (5-bit modulus and positive exponent)\n",
                "# Expected: 4\n",
                "# Time limit: 1s (not enforced by this notebook)\n",
                "modpow(4,26,22)"
            ]
        },
        {
            "cell_type": "code",
            "execution_count": 3,
            "metadata": {},
            "outputs": [
                {
                    "data": {
                        "text/plain": [
                            "31929"
                        ]
                    },
                    "execution_count": 3,
                    "metadata": {},
                    "output_type": "execute_result"
                }
            ],
            "source": [
                "# Sample test case (16-bit modulus and negative exponent)\n",
                "# Expected: 31929\n",
                "# Time limit: 1s (not enforced by this notebook)\n",
                "modpow(15,-38809,33454)"
            ]
        },
        {
            "cell_type": "code",
            "execution_count": 4,
            "metadata": {},
            "outputs": [
                {
                    "name": "stdout",
                    "output_type": "stream",
                    "text": [
                        "CPU times: user 23 µs, sys: 3 µs, total: 26 µs\n",
                        "Wall time: 47 µs\n"
                    ]
                },
                {
                    "data": {
                        "text/plain": [
                            "5"
                        ]
                    },
                    "execution_count": 4,
                    "metadata": {},
                    "output_type": "execute_result"
                }
            ],
            "source": [
                "%%time\n",
                "# Sample test case (32-bit modulus and positive exponent)\n",
                "# Expected: 1325779842\n",
                "# Time limit: 1s (not enforced by this notebook)\n",
                "modpow(12,2657675050,2712871679)\n",
                "modpow(3, 5, 7)"
            ]
        },
        {
            "cell_type": "code",
            "execution_count": 5,
            "metadata": {},
            "outputs": [
                {
                    "data": {
                        "text/plain": [
                            "7577281277215941756"
                        ]
                    },
                    "execution_count": 5,
                    "metadata": {},
                    "output_type": "execute_result"
                }
            ],
            "source": [
                "# Sample test case (64-bit modulus and negative exponent)\n",
                "# Expected: 7577281277215941756\n",
                "# Time limit: 1s (not enforced by this notebook)\n",
                "modpow(56,-13442377174306293115,10217231750639965811)"
            ]
        },
        {
            "cell_type": "code",
            "execution_count": 6,
            "metadata": {},
            "outputs": [
                {
                    "data": {
                        "text/plain": [
                            "587840517415719063934782010554520938615506630727349070215843361181012533478"
                        ]
                    },
                    "execution_count": 6,
                    "metadata": {},
                    "output_type": "execute_result"
                }
            ],
            "source": [
                "# Sample test case (256-bit modulus and positive exponent)\n",
                "# Expected: 587840517415719063934782010554520938615506630727349070215843361181012533478\n",
                "# Time limit: 1s (not enforced by this notebook)\n",
                "modpow(60,82447013444512138537612806799931249387270525455388064031408489192731781078438,111111741864016626064891706726141902683018055659701705613830204399899037336082)"
            ]
        },
        {
            "cell_type": "code",
            "execution_count": null,
            "metadata": {},
            "outputs": [],
            "source": []
        }
    ],
    "metadata": {
        "kernelspec": {
            "display_name": "base",
            "language": "python",
            "name": "python3"
        },
        "language_info": {
            "codemirror_mode": {
                "name": "ipython",
                "version": 3
            },
            "file_extension": ".py",
            "mimetype": "text/x-python",
            "name": "python",
            "nbconvert_exporter": "python",
            "pygments_lexer": "ipython3",
            "version": "3.11.5"
        }
    },
    "nbformat": 4,
    "nbformat_minor": 2
}
