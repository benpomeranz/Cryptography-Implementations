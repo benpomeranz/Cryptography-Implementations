{
    "cells": [
        {
            "cell_type": "markdown",
            "metadata": {},
            "source": [
                "Write a function $\\texttt{dh(g,p,B)}$ that performs Alice's role in Diffie-Hellman key exchange, using a randomly chosen secret number $a$. More precisely: you are given a prime number $p$, an element $g \\in \\mathbb{Z} / p \\mathbb{Z}$, and Bob's transmission $B$. Your function should return a pair of two numbers $A,S$, where $A$ is the number you transmit to Bob, and $S$ is the shared secret. You can $\\texttt{import random}$ in Python and call $\\texttt{random.randint(n, m)}$ to generate a random number in Python between $n$ and $m$ (don't worry about finding a ``cryptographically secure'' random number generator). The prime $p$ will be between $16$ and $256$ bits long, and the autograder will run your code several times on each input to make sure that it appears to be choosing the secret number $a$ randomly.\n"
            ]
        },
        {
            "cell_type": "code",
            "execution_count": 1,
            "metadata": {
                "mainSource": true
            },
            "outputs": [],
            "source": [
                "# Run this cell every time you change your source code.\n",
                "import importlib, dhSoln\n",
                "importlib.reload(dhSoln)\n",
                "from dhSoln import dh"
            ]
        },
        {
            "cell_type": "code",
            "execution_count": 2,
            "metadata": {},
            "outputs": [
                {
                    "data": {
                        "text/plain": [
                            "(9328, 1742)"
                        ]
                    },
                    "execution_count": 2,
                    "metadata": {},
                    "output_type": "execute_result"
                }
            ],
            "source": [
                "# Sample test case (16-bit prime)\n",
                "# Bob's secret number: b = 8420\n",
                "# To see if it worked: check that A^b is congruent to S mod p.\n",
                "# Time limit: 1s (not enforced by this notebook)\n",
                "dh(9852,36191,18272)"
            ]
        },
        {
            "cell_type": "code",
            "execution_count": 3,
            "metadata": {},
            "outputs": [
                {
                    "data": {
                        "text/plain": [
                            "(124314, 126249)"
                        ]
                    },
                    "execution_count": 3,
                    "metadata": {},
                    "output_type": "execute_result"
                }
            ],
            "source": [
                "# Sample test case (20-bit prime)\n",
                "# Bob's secret number: b = 20781\n",
                "# To see if it worked: check that A^b is congruent to S mod p.\n",
                "# Time limit: 1s (not enforced by this notebook)\n",
                "dh(979727,1008781,806363)"
            ]
        },
        {
            "cell_type": "code",
            "execution_count": 4,
            "metadata": {},
            "outputs": [
                {
                    "data": {
                        "text/plain": [
                            "(2075487896, 159268082)"
                        ]
                    },
                    "execution_count": 4,
                    "metadata": {},
                    "output_type": "execute_result"
                }
            ],
            "source": [
                "# Sample test case (32-bit prime)\n",
                "# Bob's secret number: b = 2620794649\n",
                "# To see if it worked: check that A^b is congruent to S mod p.\n",
                "# Time limit: 1s (not enforced by this notebook)\n",
                "dh(3105266877,3728085301,512369686)"
            ]
        },
        {
            "cell_type": "code",
            "execution_count": 5,
            "metadata": {},
            "outputs": [
                {
                    "data": {
                        "text/plain": [
                            "(10370718411097695613, 4977533066539029234)"
                        ]
                    },
                    "execution_count": 5,
                    "metadata": {},
                    "output_type": "execute_result"
                }
            ],
            "source": [
                "# Sample test case (64-bit prime)\n",
                "# Bob's secret number: b = 8144000413413958833\n",
                "# To see if it worked: check that A^b is congruent to S mod p.\n",
                "# Time limit: 1s (not enforced by this notebook)\n",
                "dh(22855072982521659,15019432016395572863,2228752477163229461)"
            ]
        },
        {
            "cell_type": "code",
            "execution_count": 6,
            "metadata": {},
            "outputs": [
                {
                    "data": {
                        "text/plain": [
                            "(185960354481506415185195978981008569255,\n",
                            " 126526786029721398229205208656180706273)"
                        ]
                    },
                    "execution_count": 6,
                    "metadata": {},
                    "output_type": "execute_result"
                }
            ],
            "source": [
                "# Sample test case (128-bit prime)\n",
                "# Bob's secret number: b = 8227437274020755462302265827581753695\n",
                "# To see if it worked: check that A^b is congruent to S mod p.\n",
                "# Time limit: 1s (not enforced by this notebook)\n",
                "dh(101394862415722661894582952121266406086,215249136879187833772314845668824032741,74672268806819156275237367590934464331)"
            ]
        }
    ],
    "metadata": {
        "kernelspec": {
            "display_name": "base",
            "language": "python",
            "name": "python3"
        },
        "language_info": {
            "codemirror_mode": {
                "name": "ipython",
                "version": 3
            },
            "file_extension": ".py",
            "mimetype": "text/x-python",
            "name": "python",
            "nbconvert_exporter": "python",
            "pygments_lexer": "ipython3",
            "version": "3.11.5"
        }
    },
    "nbformat": 4,
    "nbformat_minor": 2
}
