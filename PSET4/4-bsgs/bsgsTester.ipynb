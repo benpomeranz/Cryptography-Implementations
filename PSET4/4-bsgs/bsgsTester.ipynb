{
    "cells": [
        {
            "cell_type": "markdown",
            "metadata": {},
            "source": [
                "Implement the Babystep-Giantstep algorithm, efficiently enough to solve the discrete logarithm problem for primes $p$ up to $40$ bits in length. That is, write a function $\\texttt{bsgs(g,h,p)}$ that finds an integer $x$ such that $g^x \\equiv h \\pmod{p}$. You may assume that $p$ is prime, $1 \\leq g,h < p$, and that a solution $x$ exists.\n",
                "\n",
                "The test bank on Gradescope will be identical to the test bank for $\\texttt{disclog}$ on Problem Set 2, but now your code must solve all $40$ cases for full credit.\n"
            ]
        },
        {
            "cell_type": "code",
            "execution_count": 6,
            "metadata": {
                "mainSource": true
            },
            "outputs": [],
            "source": [
                "# Run this cell every time you change your source code.\n",
                "import importlib, bsgsSoln\n",
                "importlib.reload(bsgsSoln)\n",
                "from bsgsSoln import modpow\n",
                "from bsgsSoln import bsgs"
            ]
        },
        {
            "cell_type": "code",
            "execution_count": 7,
            "metadata": {},
            "outputs": [
                {
                    "data": {
                        "text/plain": [
                            "1"
                        ]
                    },
                    "execution_count": 7,
                    "metadata": {},
                    "output_type": "execute_result"
                }
            ],
            "source": [
                "# Sample test case (3-bit prime modulus)\n",
                "# Expected: 1 (not unique; other answers possible)\n",
                "# Time limit: 4s (not enforced by this notebook)\n",
                "bsgs(2,2,7)"
            ]
        },
        {
            "cell_type": "code",
            "execution_count": 8,
            "metadata": {},
            "outputs": [
                {
                    "name": "stdout",
                    "output_type": "stream",
                    "text": [
                        "286408\n"
                    ]
                }
            ],
            "source": [
                "# Sample test case (20-bit prime modulus)\n",
                "# Expected: 685929 (not unique; other answers possible)\n",
                "# Time limit: 4s (not enforced by this notebook)\n",
                "bsgs(663019,286408,954269)\n",
                "print(modpow(663019,208795, 954269))"
            ]
        },
        {
            "cell_type": "code",
            "execution_count": 9,
            "metadata": {},
            "outputs": [
                {
                    "data": {
                        "text/plain": [
                            "170019713"
                        ]
                    },
                    "execution_count": 9,
                    "metadata": {},
                    "output_type": "execute_result"
                }
            ],
            "source": [
                "# Sample test case (32-bit prime modulus)\n",
                "# Expected: 877579691 (not unique; other answers possible)\n",
                "# Time limit: 4s (not enforced by this notebook)\n",
                "bsgs(2321760249,3967401024,4245359869)"
            ]
        },
        {
            "cell_type": "code",
            "execution_count": 10,
            "metadata": {},
            "outputs": [
                {
                    "data": {
                        "text/plain": [
                            "396083949297"
                        ]
                    },
                    "execution_count": 10,
                    "metadata": {},
                    "output_type": "execute_result"
                }
            ],
            "source": [
                "# Sample test case (40-bit prime modulus)\n",
                "# Expected: 396083949297 (not unique; other answers possible)\n",
                "# Time limit: 4s (not enforced by this notebook)\n",
                "bsgs(320336053913,369947412327,661842265811)"
            ]
        }
    ],
    "metadata": {
        "kernelspec": {
            "display_name": "base",
            "language": "python",
            "name": "python3"
        },
        "language_info": {
            "codemirror_mode": {
                "name": "ipython",
                "version": 3
            },
            "file_extension": ".py",
            "mimetype": "text/x-python",
            "name": "python",
            "nbconvert_exporter": "python",
            "pygments_lexer": "ipython3",
            "version": "3.11.5"
        }
    },
    "nbformat": 4,
    "nbformat_minor": 2
}
